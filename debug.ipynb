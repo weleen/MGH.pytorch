{
 "cells": [
  {
   "cell_type": "code",
   "execution_count": null,
   "metadata": {},
   "outputs": [],
   "source": [
    "import os\n",
    "os.chdir('./git/fast-reid')\n",
    "import sys\n",
    "sys.path.append('.')"
   ]
  },
  {
   "cell_type": "code",
   "execution_count": null,
   "metadata": {},
   "outputs": [],
   "source": [
    "import numpy as np\n",
    "import torch\n",
    "import collections\n",
    "from fastreid.data import datasets\n",
    "import matplotlib.pyplot as plt\n",
    "%matplotlib inline\n",
    "\n",
    "def data_summary(dataset, split='train'):\n",
    "    print('For split {}'.format(split))\n",
    "    pid2img = collections.defaultdict(list)\n",
    "    pid2size = collections.defaultdict(int)\n",
    "    for imgpath, pid, camid in getattr(dataset, split):\n",
    "        pid2img[pid].append(imgpath)\n",
    "        pid2size[pid]+= 1\n",
    "\n",
    "    num_imgs = list()\n",
    "    for v in pid2img.values():\n",
    "        num_imgs.append(len(v))\n",
    "    num_imgs = np.array(num_imgs)\n",
    "\n",
    "    print('min: {}, max: {}, median: {}'.format(num_imgs.min(), num_imgs.max(), np.median(num_imgs)))\n",
    "\n",
    "    plt.figure()\n",
    "    plt.bar(np.arange(len(num_imgs)), num_imgs, width=0.5)\n",
    "    plt.show()\n",
    "    return pid2img"
   ]
  },
  {
   "cell_type": "code",
   "execution_count": null,
   "metadata": {},
   "outputs": [],
   "source": [
    "for data_name in ['Market1501', 'DukeMTMC', 'MSMT17']:\n",
    "    dataset = getattr(datasets, data_name)(root='datasets')\n",
    "    print(f'Data summary for dataset {data_name}')\n",
    "    for split in ['train', 'query', 'gallery']:\n",
    "        _ = data_summary(dataset, split)"
   ]
  }
 ],
 "metadata": {
  "kernelspec": {
   "display_name": "Python 3.7.7 64-bit ('reid')",
   "language": "python",
   "name": "python37764bitreid03873c5ad2664e20b2bf5b8bafa1c9ab"
  },
  "language_info": {
   "codemirror_mode": {
    "name": "ipython",
    "version": 3
   },
   "file_extension": ".py",
   "mimetype": "text/x-python",
   "name": "python",
   "nbconvert_exporter": "python",
   "pygments_lexer": "ipython3",
   "version": "3.7.7"
  }
 },
 "nbformat": 4,
 "nbformat_minor": 4
}
